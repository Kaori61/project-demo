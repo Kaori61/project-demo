{
 "cells": [
  {
   "cell_type": "markdown",
   "id": "253d80c3",
   "metadata": {},
   "source": [
    "# Credit Card Attrition Analysis"
   ]
  },
  {
   "cell_type": "markdown",
   "id": "1cff965e",
   "metadata": {},
   "source": [
    "## About\n",
    "The goal of this analysis is to uncover factors associated with credit card customer attrition. Identifying and predicting patterns to provide actionable insights for reducing credit card customer churn."
   ]
  },
  {
   "cell_type": "markdown",
   "id": "f4c63f71",
   "metadata": {},
   "source": [
    "### Data Loading"
   ]
  },
  {
   "cell_type": "code",
   "execution_count": null,
   "id": "01fc7cf9",
   "metadata": {},
   "outputs": [],
   "source": [
    "import pandas as pd\n",
    "import numpy as np"
   ]
  },
  {
   "cell_type": "code",
   "execution_count": null,
   "id": "c24da670",
   "metadata": {},
   "outputs": [],
   "source": [
    "# Load the dataset\n",
    "data = pd.read_csv('../BankChurners.csv')\n",
    "data.head()"
   ]
  },
  {
   "cell_type": "markdown",
   "id": "2382bd12",
   "metadata": {},
   "source": [
    "### Remove the last two columns\n",
    " It is advised to remove before doing any analysis"
   ]
  },
  {
   "cell_type": "code",
   "execution_count": null,
   "id": "7db31778",
   "metadata": {},
   "outputs": [],
   "source": [
    "# Remove the last two columns which are not needed\n",
    "data.drop(columns=['Naive_Bayes_Classifier_Attrition_Flag_Card_Category_Contacts_Count_12_mon_Dependent_count_Education_Level_Months_Inactive_12_mon_1', \n",
    "                 'Naive_Bayes_Classifier_Attrition_Flag_Card_Category_Contacts_Count_12_mon_Dependent_count_Education_Level_Months_Inactive_12_mon_2'], inplace=True)\n"
   ]
  },
  {
   "cell_type": "code",
   "execution_count": null,
   "id": "9ee42671",
   "metadata": {},
   "outputs": [],
   "source": [
    "data.head()"
   ]
  },
  {
   "cell_type": "code",
   "execution_count": null,
   "id": "876fa82f",
   "metadata": {},
   "outputs": [],
   "source": [
    "# Checking for data types\n",
    "data.dtypes"
   ]
  },
  {
   "cell_type": "code",
   "execution_count": null,
   "id": "2857990f",
   "metadata": {},
   "outputs": [],
   "source": [
    "# Checking for missing values\n",
    "data.isnull().sum()"
   ]
  },
  {
   "cell_type": "code",
   "execution_count": null,
   "id": "48f4b7a6",
   "metadata": {},
   "outputs": [],
   "source": [
    "# Filtering columns based on data types\n",
    "col_object = data.select_dtypes(include=['object']).columns\n",
    "col_object"
   ]
  },
  {
   "cell_type": "code",
   "execution_count": null,
   "id": "9dabef12",
   "metadata": {},
   "outputs": [],
   "source": [
    "# Print unique variables in each column\n",
    "for col in col_object:\n",
    "    print(f\"{col}\")\n",
    "    print(data[col].unique(), \"\\n\")"
   ]
  },
  {
   "cell_type": "code",
   "execution_count": null,
   "id": "51502e3b",
   "metadata": {},
   "outputs": [],
   "source": [
    "# Filter attrited customer\n",
    "data_filtered = data[data['Attrition_Flag'] == 'Attrited Customer']\n",
    "data_filtered"
   ]
  },
  {
   "cell_type": "code",
   "execution_count": null,
   "id": "8279b475",
   "metadata": {},
   "outputs": [],
   "source": [
    "# Count occurence of \"Unknown\" in columns that data type is object\n",
    "for col in data_filtered.select_dtypes(include ='object'):\n",
    "    count = (data_filtered[col] == 'Unknown').sum()\n",
    "    print(f\"{col}: {count}\")\n"
   ]
  },
  {
   "cell_type": "code",
   "execution_count": null,
   "id": "3c806522",
   "metadata": {},
   "outputs": [],
   "source": [
    "# Save the filtered data to cvs\n",
    "data_filtered.to_csv('../cleaned_data.csv', index=False)"
   ]
  },
  {
   "cell_type": "code",
   "execution_count": null,
   "id": "0dbf1060",
   "metadata": {},
   "outputs": [],
   "source": []
  }
 ],
 "metadata": {
  "kernelspec": {
   "display_name": ".venv",
   "language": "python",
   "name": "python3"
  },
  "language_info": {
   "codemirror_mode": {
    "name": "ipython",
    "version": 3
   },
   "file_extension": ".py",
   "mimetype": "text/x-python",
   "name": "python",
   "nbconvert_exporter": "python",
   "pygments_lexer": "ipython3",
   "version": "3.12.8"
  }
 },
 "nbformat": 4,
 "nbformat_minor": 5
}
